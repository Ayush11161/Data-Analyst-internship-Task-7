{
 "cells": [
  {
   "cell_type": "code",
   "execution_count": 3,
   "id": "2b62ef6b-6a3e-4c3b-ab78-bc93b280aa33",
   "metadata": {},
   "outputs": [],
   "source": [
    "import sqlite3\n",
    "import pandas as pd\n",
    "import matplotlib.pyplot as plt\n",
    "import os\n",
    "\n",
    "# Define the database file name\n",
    "DB_FILE = \"sales_data.db\""
   ]
  },
  {
   "cell_type": "code",
   "execution_count": 4,
   "id": "385887c0-2608-4eb0-bdfa-4c577a909857",
   "metadata": {},
   "outputs": [
    {
     "name": "stdout",
     "output_type": "stream",
     "text": [
      "Database 'sales_data.db' created and populated successfully.\n"
     ]
    }
   ],
   "source": [
    "# --- 1. Create and Populate the Database ---\n",
    "\n",
    "# Delete the database file if it already exists to start fresh\n",
    "if os.path.exists(DB_FILE):\n",
    "    os.remove(DB_FILE)\n",
    "\n",
    "# Connect to the SQLite database (this will create the file)\n",
    "conn = sqlite3.connect(DB_FILE)\n",
    "cursor = conn.cursor()\n",
    "\n",
    "# Create the 'sales' table\n",
    "cursor.execute('''\n",
    "CREATE TABLE sales (\n",
    "    id INTEGER PRIMARY KEY,\n",
    "    product TEXT NOT NULL,\n",
    "    quantity INTEGER NOT NULL,\n",
    "    price REAL NOT NULL\n",
    ")\n",
    "''')\n",
    "\n",
    "# Insert some sample data into the table\n",
    "sales_data = [\n",
    "    ('Laptop', 10, 1200.50),\n",
    "    ('Mouse', 50, 25.00),\n",
    "    ('Keyboard', 30, 75.75),\n",
    "    ('Laptop', 5, 1150.00),\n",
    "    ('Monitor', 20, 300.00),\n",
    "    ('Mouse', 25, 27.50)\n",
    "]\n",
    "\n",
    "cursor.executemany('INSERT INTO sales (product, quantity, price) VALUES (?, ?, ?)', sales_data)\n",
    "\n",
    "# Commit the changes and close the initial connection\n",
    "conn.commit()\n",
    "conn.close()\n",
    "\n",
    "print(f\"Database '{DB_FILE}' created and populated successfully.\")"
   ]
  },
  {
   "cell_type": "code",
   "execution_count": 5,
   "id": "163ffb6a-a420-487f-a0d0-835edf9b6300",
   "metadata": {},
   "outputs": [],
   "source": [
    "# --- 2. Query the Database and Analyze Data ---\n",
    "\n",
    "# Connect to the newly created database\n",
    "conn = sqlite3.connect(DB_FILE)\n",
    "\n",
    "# Define the SQL query to get the sales summary\n",
    "query = \"\"\"\n",
    "SELECT\n",
    "    product,\n",
    "    SUM(quantity) AS total_quantity,\n",
    "    SUM(quantity * price) AS revenue\n",
    "FROM\n",
    "    sales\n",
    "GROUP BY\n",
    "    product\n",
    "ORDER BY\n",
    "    revenue DESC\n",
    "\"\"\"\n",
    "\n",
    "# Execute the query and load the results into a pandas DataFrame\n",
    "sales_summary_df = pd.read_sql_query(query, conn)\n",
    "\n",
    "# Close the database connection\n",
    "conn.close()"
   ]
  },
  {
   "cell_type": "code",
   "execution_count": 6,
   "id": "64173beb-0ce7-4e17-b3a7-7ef64a144cb6",
   "metadata": {},
   "outputs": [
    {
     "name": "stdout",
     "output_type": "stream",
     "text": [
      "\n",
      "--- Sales Summary ---\n",
      "    product  total_quantity  revenue\n",
      "0    Laptop              15  17755.0\n",
      "1   Monitor              20   6000.0\n",
      "2  Keyboard              30   2272.5\n",
      "3     Mouse              75   1937.5\n",
      "\n",
      "Bar chart saved as 'sales_revenue_chart.png'\n"
     ]
    },
    {
     "data": {
      "text/plain": [
       "<Figure size 1000x600 with 0 Axes>"
      ]
     },
     "metadata": {},
     "output_type": "display_data"
    },
    {
     "data": {
      "image/png": "[encoded data removed]",
      "text/plain": [
       "<Figure size 640x480 with 1 Axes>"
      ]
     },
     "metadata": {},
     "output_type": "display_data"
    }
   ],
   "source": [
    "# --- 3. Display and Visualize the Results ---\n",
    "\n",
    "# Display the summary data using print()\n",
    "print(\"\\n--- Sales Summary ---\")\n",
    "print(sales_summary_df)\n",
    "\n",
    "# Create a bar chart of the revenue by product\n",
    "plt.figure(figsize=(10, 6))\n",
    "ax = sales_summary_df.plot(kind='bar', x='product', y='revenue', legend=False,\n",
    "                           title='Total Revenue by Product',\n",
    "                           color=['skyblue', 'lightgreen', 'salmon', 'gold'])\n",
    "ax.set_xlabel(\"Product\")\n",
    "ax.set_ylabel(\"Revenue ($)\")\n",
    "ax.set_xticklabels(sales_summary_df['product'], rotation=45, ha='right')\n",
    "plt.tight_layout()\n",
    "\n",
    "# Save the chart to a file\n",
    "plt.savefig(\"sales_revenue_chart.png\")\n",
    "\n",
    "print(\"\\nBar chart saved as 'sales_revenue_chart.png'\")\n",
    "\n",
    "# Display the chart\n",
    "plt.show()"
   ]
  },
  {
   "cell_type": "code",
   "execution_count": null,
   "id": "aeb4b91c-7260-45ea-b289-c60c2bf75169",
   "metadata": {},
   "outputs": [],
   "source": []
  }
 ],
 "metadata": {
  "kernelspec": {
   "display_name": "Python 3 (ipykernel)",
   "language": "python",
   "name": "python3"
  },
  "language_info": {
   "codemirror_mode": {
    "name": "ipython",
    "version": 3
   },
   "file_extension": ".py",
   "mimetype": "text/x-python",
   "name": "python",
   "nbconvert_exporter": "python",
   "pygments_lexer": "ipython3",
   "version": "3.13.7"
  }
 },
 "nbformat": 4,
 "nbformat_minor": 5
}
